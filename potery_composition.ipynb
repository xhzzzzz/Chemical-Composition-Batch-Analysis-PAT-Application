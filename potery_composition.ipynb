{
 "cells": [
  {
   "cell_type": "code",
   "execution_count": 1,
   "id": "0ba59eda",
   "metadata": {},
   "outputs": [],
   "source": [
    "import  pandas as pd \n",
    "import  numpy as np\n",
    "import  matplotlib.pyplot as plt\n",
    "import  seaborn as sns\n",
    "from mpl_toolkits.mplot3d import Axes3D\n",
    "from sklearn.decomposition import PCA\n",
    "from sklearn.preprocessing import StandardScaler\n",
    "from sklearn.preprocessing import MaxAbsScaler"
   ]
  },
  {
   "cell_type": "markdown",
   "id": "aac11f10",
   "metadata": {},
   "source": [
    "Q1.1.1"
   ]
  },
  {
   "cell_type": "code",
   "execution_count": 2,
   "id": "c9a54b24",
   "metadata": {},
   "outputs": [
    {
     "data": {
      "text/html": [
       "<div>\n",
       "<style scoped>\n",
       "    .dataframe tbody tr th:only-of-type {\n",
       "        vertical-align: middle;\n",
       "    }\n",
       "\n",
       "    .dataframe tbody tr th {\n",
       "        vertical-align: top;\n",
       "    }\n",
       "\n",
       "    .dataframe thead th {\n",
       "        text-align: right;\n",
       "    }\n",
       "</style>\n",
       "<table border=\"1\" class=\"dataframe\">\n",
       "  <thead>\n",
       "    <tr style=\"text-align: right;\">\n",
       "      <th></th>\n",
       "      <th>Unnamed: 0</th>\n",
       "      <th>Site</th>\n",
       "      <th>Al</th>\n",
       "      <th>Fe</th>\n",
       "      <th>Mg</th>\n",
       "      <th>Ca</th>\n",
       "      <th>Na</th>\n",
       "    </tr>\n",
       "  </thead>\n",
       "  <tbody>\n",
       "    <tr>\n",
       "      <th>0</th>\n",
       "      <td>1</td>\n",
       "      <td>Llanedyrn</td>\n",
       "      <td>14.4</td>\n",
       "      <td>7.00</td>\n",
       "      <td>4.30</td>\n",
       "      <td>0.15</td>\n",
       "      <td>0.51</td>\n",
       "    </tr>\n",
       "    <tr>\n",
       "      <th>1</th>\n",
       "      <td>2</td>\n",
       "      <td>Llanedyrn</td>\n",
       "      <td>13.8</td>\n",
       "      <td>7.08</td>\n",
       "      <td>3.43</td>\n",
       "      <td>0.12</td>\n",
       "      <td>0.17</td>\n",
       "    </tr>\n",
       "    <tr>\n",
       "      <th>2</th>\n",
       "      <td>3</td>\n",
       "      <td>Llanedyrn</td>\n",
       "      <td>14.6</td>\n",
       "      <td>7.09</td>\n",
       "      <td>3.88</td>\n",
       "      <td>0.13</td>\n",
       "      <td>0.20</td>\n",
       "    </tr>\n",
       "    <tr>\n",
       "      <th>3</th>\n",
       "      <td>4</td>\n",
       "      <td>Llanedyrn</td>\n",
       "      <td>11.5</td>\n",
       "      <td>6.37</td>\n",
       "      <td>5.64</td>\n",
       "      <td>0.16</td>\n",
       "      <td>0.14</td>\n",
       "    </tr>\n",
       "    <tr>\n",
       "      <th>4</th>\n",
       "      <td>5</td>\n",
       "      <td>Llanedyrn</td>\n",
       "      <td>13.8</td>\n",
       "      <td>7.06</td>\n",
       "      <td>5.34</td>\n",
       "      <td>0.20</td>\n",
       "      <td>0.20</td>\n",
       "    </tr>\n",
       "  </tbody>\n",
       "</table>\n",
       "</div>"
      ],
      "text/plain": [
       "   Unnamed: 0       Site    Al    Fe    Mg    Ca    Na\n",
       "0           1  Llanedyrn  14.4  7.00  4.30  0.15  0.51\n",
       "1           2  Llanedyrn  13.8  7.08  3.43  0.12  0.17\n",
       "2           3  Llanedyrn  14.6  7.09  3.88  0.13  0.20\n",
       "3           4  Llanedyrn  11.5  6.37  5.64  0.16  0.14\n",
       "4           5  Llanedyrn  13.8  7.06  5.34  0.20  0.20"
      ]
     },
     "execution_count": 2,
     "metadata": {},
     "output_type": "execute_result"
    }
   ],
   "source": [
    "df = pd.read_csv('Pottery.csv')\n",
    "df.head()"
   ]
  },
  {
   "cell_type": "code",
   "execution_count": 3,
   "id": "610284e4",
   "metadata": {},
   "outputs": [
    {
     "name": "stdout",
     "output_type": "stream",
     "text": [
      "I have 7 columns.\n"
     ]
    }
   ],
   "source": [
    "len(df.columns)\n",
    "print(\"I have\", '7 columns.')"
   ]
  },
  {
   "cell_type": "markdown",
   "id": "9f6d29ae",
   "metadata": {},
   "source": [
    "The first 2 columns are identifiers, I will use columns 'AI', 'Fe', 'Mg', 'Ca' and 'Na' in PCA."
   ]
  },
  {
   "cell_type": "markdown",
   "id": "2948c7ca",
   "metadata": {},
   "source": [
    "Q1.1.2"
   ]
  },
  {
   "cell_type": "markdown",
   "id": "4e066da1",
   "metadata": {},
   "source": [
    "## Data pre-processing"
   ]
  },
  {
   "cell_type": "code",
   "execution_count": 4,
   "id": "83b7504f",
   "metadata": {},
   "outputs": [
    {
     "data": {
      "text/html": [
       "<div>\n",
       "<style scoped>\n",
       "    .dataframe tbody tr th:only-of-type {\n",
       "        vertical-align: middle;\n",
       "    }\n",
       "\n",
       "    .dataframe tbody tr th {\n",
       "        vertical-align: top;\n",
       "    }\n",
       "\n",
       "    .dataframe thead th {\n",
       "        text-align: right;\n",
       "    }\n",
       "</style>\n",
       "<table border=\"1\" class=\"dataframe\">\n",
       "  <thead>\n",
       "    <tr style=\"text-align: right;\">\n",
       "      <th></th>\n",
       "      <th>Al</th>\n",
       "      <th>Fe</th>\n",
       "      <th>Mg</th>\n",
       "      <th>Ca</th>\n",
       "      <th>Na</th>\n",
       "    </tr>\n",
       "  </thead>\n",
       "  <tbody>\n",
       "    <tr>\n",
       "      <th>0</th>\n",
       "      <td>14.4</td>\n",
       "      <td>7.00</td>\n",
       "      <td>4.30</td>\n",
       "      <td>0.15</td>\n",
       "      <td>0.51</td>\n",
       "    </tr>\n",
       "    <tr>\n",
       "      <th>1</th>\n",
       "      <td>13.8</td>\n",
       "      <td>7.08</td>\n",
       "      <td>3.43</td>\n",
       "      <td>0.12</td>\n",
       "      <td>0.17</td>\n",
       "    </tr>\n",
       "    <tr>\n",
       "      <th>2</th>\n",
       "      <td>14.6</td>\n",
       "      <td>7.09</td>\n",
       "      <td>3.88</td>\n",
       "      <td>0.13</td>\n",
       "      <td>0.20</td>\n",
       "    </tr>\n",
       "    <tr>\n",
       "      <th>3</th>\n",
       "      <td>11.5</td>\n",
       "      <td>6.37</td>\n",
       "      <td>5.64</td>\n",
       "      <td>0.16</td>\n",
       "      <td>0.14</td>\n",
       "    </tr>\n",
       "    <tr>\n",
       "      <th>4</th>\n",
       "      <td>13.8</td>\n",
       "      <td>7.06</td>\n",
       "      <td>5.34</td>\n",
       "      <td>0.20</td>\n",
       "      <td>0.20</td>\n",
       "    </tr>\n",
       "  </tbody>\n",
       "</table>\n",
       "</div>"
      ],
      "text/plain": [
       "     Al    Fe    Mg    Ca    Na\n",
       "0  14.4  7.00  4.30  0.15  0.51\n",
       "1  13.8  7.08  3.43  0.12  0.17\n",
       "2  14.6  7.09  3.88  0.13  0.20\n",
       "3  11.5  6.37  5.64  0.16  0.14\n",
       "4  13.8  7.06  5.34  0.20  0.20"
      ]
     },
     "execution_count": 4,
     "metadata": {},
     "output_type": "execute_result"
    }
   ],
   "source": [
    "# drop columns\n",
    "pottery_df = df.drop(columns = ['Unnamed: 0', 'Site'])\n",
    "pottery_df.head()"
   ]
  },
  {
   "cell_type": "code",
   "execution_count": 5,
   "id": "8314cf2d",
   "metadata": {},
   "outputs": [
    {
     "name": "stderr",
     "output_type": "stream",
     "text": [
      "/Users/houze/opt/anaconda3/lib/python3.8/site-packages/seaborn/categorical.py:82: FutureWarning: iteritems is deprecated and will be removed in a future version. Use .items instead.\n",
      "  plot_data = [np.asarray(s, float) for k, s in iter_data]\n"
     ]
    },
    {
     "data": {
      "text/plain": [
       "<AxesSubplot:>"
      ]
     },
     "execution_count": 5,
     "metadata": {},
     "output_type": "execute_result"
    },
    {
     "data": {
      "image/png": "[encoded data removed]",
      "text/plain": [
       "<Figure size 432x288 with 1 Axes>"
      ]
     },
     "metadata": {
      "needs_background": "light"
     },
     "output_type": "display_data"
    }
   ],
   "source": [
    "sns.boxplot(data = pottery_df)"
   ]
  },
  {
   "cell_type": "code",
   "execution_count": 6,
   "id": "3d27428b",
   "metadata": {},
   "outputs": [
    {
     "data": {
      "text/plain": [
       "<AxesSubplot:ylabel='Density'>"
      ]
     },
     "execution_count": 6,
     "metadata": {},
     "output_type": "execute_result"
    },
    {
     "data": {
      "image/png": "[encoded data removed]",
      "text/plain": [
       "<Figure size 432x288 with 1 Axes>"
      ]
     },
     "metadata": {
      "needs_background": "light"
     },
     "output_type": "display_data"
    }
   ],
   "source": [
    "pottery_df.plot.kde(ind=np.arange(0,10,0.1))"
   ]
  },
  {
   "cell_type": "code",
   "execution_count": 7,
   "id": "dd575677",
   "metadata": {},
   "outputs": [
    {
     "data": {
      "text/plain": [
       "StandardScaler()"
      ]
     },
     "execution_count": 7,
     "metadata": {},
     "output_type": "execute_result"
    }
   ],
   "source": [
    "# standardize data(zero mean-unit std)\n",
    "scaler = StandardScaler()\n",
    "scaler"
   ]
  },
  {
   "cell_type": "code",
   "execution_count": 8,
   "id": "222e89f6",
   "metadata": {},
   "outputs": [
    {
     "data": {
      "text/plain": [
       "array([[-0.03145568,  1.07166989,  0.54199637,  0.03487194,  2.64999905],\n",
       "       [-0.23591756,  1.1055258 ,  0.13495926, -0.26735151,  0.08698028],\n",
       "       [ 0.03669829,  1.10975779,  0.3454957 , -0.16661036,  0.31312899],\n",
       "       [-1.01968814,  0.80505457,  1.1689271 ,  0.13561308, -0.13916844],\n",
       "       [-0.23591756,  1.09706182,  1.02856948,  0.53857767,  0.31312899],\n",
       "       [-1.22415003,  0.75850268,  0.15367361,  0.23635423,  0.4638948 ],\n",
       "       [-1.49676588, -0.08789516,  0.52328202,  0.53857767,  0.16236318],\n",
       "       [-0.98561116,  0.5553672 ,  1.29524897,  0.33709538,  0.01159737],\n",
       "       [-1.15599607,  0.43263951,  0.6449253 ,  1.44524799,  1.06695804],\n",
       "       [-0.37222549,  1.03781397,  1.91282252,  1.34450685,  0.31312899],\n",
       "       [-0.71299531,  0.70348682,  1.19232004,  0.74005996,  2.87614776],\n",
       "       [-0.47445644,  0.91931828,  1.10810547,  1.64673029,  0.61466061],\n",
       "       [-0.61076436,  0.94047822,  0.61217519,  0.53857767,  0.4638948 ],\n",
       "       [-0.67891832,  0.83467849,  0.37356722,  0.74005996,  0.53927771],\n",
       "       [-0.9174572 ,  0.41147957,  0.37356722,  1.54598914, -0.89299749],\n",
       "       [-0.98561116,  0.39031962,  0.29403123,  1.44524799, -0.74223168],\n",
       "       [ 1.29754661, -1.34902795, -1.15633091, -1.17402183, -0.9683804 ],\n",
       "       [ 0.44562207, -0.87927715, -1.17504526, -1.37550412, -0.89299749],\n",
       "       [ 1.19531566, -1.25592419, -1.15633091, -1.37550412, -0.74223168],\n",
       "       [ 1.19531566, -1.0951086 , -1.15165232, -1.37550412, -0.89299749],\n",
       "       [ 2.14947114, -1.2516922 , -1.13293797, -0.77105724, -0.44070006],\n",
       "       [ 1.09308472, -1.41673978, -1.20779537, -0.87179839, -0.74223168],\n",
       "       [ 1.29754661, -1.4082758 , -1.15633091, -0.87179839, -0.81761459],\n",
       "       [ 0.7523149 , -1.50137956, -1.22183113, -1.37550412, -0.81761459],\n",
       "       [ 0.10485225, -0.73115752, -1.15633091, -1.17402183, -0.81761459],\n",
       "       [ 1.57016246, -1.19667634, -1.18908102, -0.4688338 , -0.9683804 ]])"
      ]
     },
     "execution_count": 8,
     "metadata": {},
     "output_type": "execute_result"
    }
   ],
   "source": [
    "pottery_scaled = scaler.fit_transform(pottery_df)\n",
    "pottery_scaled"
   ]
  },
  {
   "cell_type": "code",
   "execution_count": 9,
   "id": "8d841668",
   "metadata": {},
   "outputs": [
    {
     "data": {
      "text/plain": [
       "array([5.12410627e-17, 1.70803542e-17, 4.27008856e-17, 3.84307970e-17,\n",
       "       5.97812398e-17])"
      ]
     },
     "execution_count": 9,
     "metadata": {},
     "output_type": "execute_result"
    }
   ],
   "source": [
    "# confirm every column of the numpy has 0 mean and 1 std\n",
    "pottery_scaled.mean(axis = 0)"
   ]
  },
  {
   "cell_type": "code",
   "execution_count": 10,
   "id": "3c3c32f3",
   "metadata": {},
   "outputs": [
    {
     "data": {
      "text/plain": [
       "array([1., 1., 1., 1., 1.])"
      ]
     },
     "execution_count": 10,
     "metadata": {},
     "output_type": "execute_result"
    }
   ],
   "source": [
    "pottery_scaled.std(axis = 0)"
   ]
  },
  {
   "cell_type": "code",
   "execution_count": 11,
   "id": "ef0e8f7b",
   "metadata": {},
   "outputs": [],
   "source": [
    "pca = PCA(n_components=3, svd_solver = 'full') # post-processing with 3 PCs"
   ]
  },
  {
   "cell_type": "code",
   "execution_count": 12,
   "id": "0164a3cd",
   "metadata": {},
   "outputs": [],
   "source": [
    "pca_scores = pca.fit_transform(pottery_scaled)"
   ]
  },
  {
   "cell_type": "code",
   "execution_count": 13,
   "id": "7fdaf769",
   "metadata": {},
   "outputs": [
    {
     "data": {
      "text/html": [
       "<div>\n",
       "<style scoped>\n",
       "    .dataframe tbody tr th:only-of-type {\n",
       "        vertical-align: middle;\n",
       "    }\n",
       "\n",
       "    .dataframe tbody tr th {\n",
       "        vertical-align: top;\n",
       "    }\n",
       "\n",
       "    .dataframe thead th {\n",
       "        text-align: right;\n",
       "    }\n",
       "</style>\n",
       "<table border=\"1\" class=\"dataframe\">\n",
       "  <thead>\n",
       "    <tr style=\"text-align: right;\">\n",
       "      <th></th>\n",
       "      <th>PC1</th>\n",
       "      <th>PC2</th>\n",
       "      <th>PC3</th>\n",
       "    </tr>\n",
       "  </thead>\n",
       "  <tbody>\n",
       "    <tr>\n",
       "      <th>0</th>\n",
       "      <td>-1.778026</td>\n",
       "      <td>2.289445</td>\n",
       "      <td>-0.075289</td>\n",
       "    </tr>\n",
       "    <tr>\n",
       "      <th>1</th>\n",
       "      <td>-0.611193</td>\n",
       "      <td>0.122065</td>\n",
       "      <td>-0.499044</td>\n",
       "    </tr>\n",
       "    <tr>\n",
       "      <th>2</th>\n",
       "      <td>-0.722428</td>\n",
       "      <td>0.370209</td>\n",
       "      <td>-0.207550</td>\n",
       "    </tr>\n",
       "    <tr>\n",
       "      <th>3</th>\n",
       "      <td>-1.417696</td>\n",
       "      <td>-0.555600</td>\n",
       "      <td>-0.557590</td>\n",
       "    </tr>\n",
       "    <tr>\n",
       "      <th>4</th>\n",
       "      <td>-1.486801</td>\n",
       "      <td>-0.004081</td>\n",
       "      <td>0.195248</td>\n",
       "    </tr>\n",
       "    <tr>\n",
       "      <th>5</th>\n",
       "      <td>-1.259044</td>\n",
       "      <td>-0.092347</td>\n",
       "      <td>-0.783259</td>\n",
       "    </tr>\n",
       "    <tr>\n",
       "      <th>6</th>\n",
       "      <td>-1.180703</td>\n",
       "      <td>-0.607921</td>\n",
       "      <td>-0.575010</td>\n",
       "    </tr>\n",
       "    <tr>\n",
       "      <th>7</th>\n",
       "      <td>-1.490385</td>\n",
       "      <td>-0.498745</td>\n",
       "      <td>-0.336582</td>\n",
       "    </tr>\n",
       "    <tr>\n",
       "      <th>8</th>\n",
       "      <td>-2.076010</td>\n",
       "      <td>0.000500</td>\n",
       "      <td>0.220714</td>\n",
       "    </tr>\n",
       "    <tr>\n",
       "      <th>9</th>\n",
       "      <td>-2.311320</td>\n",
       "      <td>-0.376341</td>\n",
       "      <td>0.800851</td>\n",
       "    </tr>\n",
       "    <tr>\n",
       "      <th>10</th>\n",
       "      <td>-2.621615</td>\n",
       "      <td>1.952241</td>\n",
       "      <td>0.094513</td>\n",
       "    </tr>\n",
       "    <tr>\n",
       "      <th>11</th>\n",
       "      <td>-2.155016</td>\n",
       "      <td>-0.220571</td>\n",
       "      <td>0.828020</td>\n",
       "    </tr>\n",
       "    <tr>\n",
       "      <th>12</th>\n",
       "      <td>-1.431624</td>\n",
       "      <td>0.007079</td>\n",
       "      <td>-0.106344</td>\n",
       "    </tr>\n",
       "    <tr>\n",
       "      <th>13</th>\n",
       "      <td>-1.413437</td>\n",
       "      <td>-0.013782</td>\n",
       "      <td>-0.037041</td>\n",
       "    </tr>\n",
       "    <tr>\n",
       "      <th>14</th>\n",
       "      <td>-1.153767</td>\n",
       "      <td>-1.634243</td>\n",
       "      <td>0.411643</td>\n",
       "    </tr>\n",
       "    <tr>\n",
       "      <th>15</th>\n",
       "      <td>-1.145386</td>\n",
       "      <td>-1.490205</td>\n",
       "      <td>0.286453</td>\n",
       "    </tr>\n",
       "    <tr>\n",
       "      <th>16</th>\n",
       "      <td>2.668073</td>\n",
       "      <td>0.029649</td>\n",
       "      <td>0.126326</td>\n",
       "    </tr>\n",
       "    <tr>\n",
       "      <th>17</th>\n",
       "      <td>2.135919</td>\n",
       "      <td>-0.119176</td>\n",
       "      <td>-0.680174</td>\n",
       "    </tr>\n",
       "    <tr>\n",
       "      <th>18</th>\n",
       "      <td>2.585526</td>\n",
       "      <td>0.262264</td>\n",
       "      <td>-0.096612</td>\n",
       "    </tr>\n",
       "    <tr>\n",
       "      <th>19</th>\n",
       "      <td>2.561672</td>\n",
       "      <td>0.138060</td>\n",
       "      <td>-0.121480</td>\n",
       "    </tr>\n",
       "    <tr>\n",
       "      <th>20</th>\n",
       "      <td>2.615076</td>\n",
       "      <td>0.654624</td>\n",
       "      <td>0.983277</td>\n",
       "    </tr>\n",
       "    <tr>\n",
       "      <th>21</th>\n",
       "      <td>2.415728</td>\n",
       "      <td>0.048399</td>\n",
       "      <td>0.193736</td>\n",
       "    </tr>\n",
       "    <tr>\n",
       "      <th>22</th>\n",
       "      <td>2.505373</td>\n",
       "      <td>0.053793</td>\n",
       "      <td>0.342508</td>\n",
       "    </tr>\n",
       "    <tr>\n",
       "      <th>23</th>\n",
       "      <td>2.565084</td>\n",
       "      <td>0.032170</td>\n",
       "      <td>-0.376411</td>\n",
       "    </tr>\n",
       "    <tr>\n",
       "      <th>24</th>\n",
       "      <td>1.786069</td>\n",
       "      <td>-0.239541</td>\n",
       "      <td>-0.799486</td>\n",
       "    </tr>\n",
       "    <tr>\n",
       "      <th>25</th>\n",
       "      <td>2.415928</td>\n",
       "      <td>-0.107947</td>\n",
       "      <td>0.768582</td>\n",
       "    </tr>\n",
       "  </tbody>\n",
       "</table>\n",
       "</div>"
      ],
      "text/plain": [
       "         PC1       PC2       PC3\n",
       "0  -1.778026  2.289445 -0.075289\n",
       "1  -0.611193  0.122065 -0.499044\n",
       "2  -0.722428  0.370209 -0.207550\n",
       "3  -1.417696 -0.555600 -0.557590\n",
       "4  -1.486801 -0.004081  0.195248\n",
       "5  -1.259044 -0.092347 -0.783259\n",
       "6  -1.180703 -0.607921 -0.575010\n",
       "7  -1.490385 -0.498745 -0.336582\n",
       "8  -2.076010  0.000500  0.220714\n",
       "9  -2.311320 -0.376341  0.800851\n",
       "10 -2.621615  1.952241  0.094513\n",
       "11 -2.155016 -0.220571  0.828020\n",
       "12 -1.431624  0.007079 -0.106344\n",
       "13 -1.413437 -0.013782 -0.037041\n",
       "14 -1.153767 -1.634243  0.411643\n",
       "15 -1.145386 -1.490205  0.286453\n",
       "16  2.668073  0.029649  0.126326\n",
       "17  2.135919 -0.119176 -0.680174\n",
       "18  2.585526  0.262264 -0.096612\n",
       "19  2.561672  0.138060 -0.121480\n",
       "20  2.615076  0.654624  0.983277\n",
       "21  2.415728  0.048399  0.193736\n",
       "22  2.505373  0.053793  0.342508\n",
       "23  2.565084  0.032170 -0.376411\n",
       "24  1.786069 -0.239541 -0.799486\n",
       "25  2.415928 -0.107947  0.768582"
      ]
     },
     "execution_count": 13,
     "metadata": {},
     "output_type": "execute_result"
    }
   ],
   "source": [
    "scores_pd = pd.DataFrame(data=pca_scores, columns = ['PC1', 'PC2', 'PC3'], index = pottery_df.index)\n",
    "scores_pd"
   ]
  },
  {
   "cell_type": "code",
   "execution_count": 14,
   "id": "4c3ca742",
   "metadata": {},
   "outputs": [
    {
     "data": {
      "text/html": [
       "<div>\n",
       "<style scoped>\n",
       "    .dataframe tbody tr th:only-of-type {\n",
       "        vertical-align: middle;\n",
       "    }\n",
       "\n",
       "    .dataframe tbody tr th {\n",
       "        vertical-align: top;\n",
       "    }\n",
       "\n",
       "    .dataframe thead th {\n",
       "        text-align: right;\n",
       "    }\n",
       "</style>\n",
       "<table border=\"1\" class=\"dataframe\">\n",
       "  <thead>\n",
       "    <tr style=\"text-align: right;\">\n",
       "      <th></th>\n",
       "      <th>PC1</th>\n",
       "      <th>PC2</th>\n",
       "      <th>PC3</th>\n",
       "    </tr>\n",
       "  </thead>\n",
       "  <tbody>\n",
       "    <tr>\n",
       "      <th>Al</th>\n",
       "      <td>0.445434</td>\n",
       "      <td>0.356524</td>\n",
       "      <td>0.694985</td>\n",
       "    </tr>\n",
       "    <tr>\n",
       "      <th>Fe</th>\n",
       "      <td>-0.478132</td>\n",
       "      <td>0.041175</td>\n",
       "      <td>-0.157338</td>\n",
       "    </tr>\n",
       "    <tr>\n",
       "      <th>Mg</th>\n",
       "      <td>-0.486541</td>\n",
       "      <td>-0.049607</td>\n",
       "      <td>0.158560</td>\n",
       "    </tr>\n",
       "    <tr>\n",
       "      <th>Ca</th>\n",
       "      <td>-0.449054</td>\n",
       "      <td>-0.344146</td>\n",
       "      <td>0.683443</td>\n",
       "    </tr>\n",
       "    <tr>\n",
       "      <th>Na</th>\n",
       "      <td>-0.366888</td>\n",
       "      <td>0.866197</td>\n",
       "      <td>0.002043</td>\n",
       "    </tr>\n",
       "  </tbody>\n",
       "</table>\n",
       "</div>"
      ],
      "text/plain": [
       "         PC1       PC2       PC3\n",
       "Al  0.445434  0.356524  0.694985\n",
       "Fe -0.478132  0.041175 -0.157338\n",
       "Mg -0.486541 -0.049607  0.158560\n",
       "Ca -0.449054 -0.344146  0.683443\n",
       "Na -0.366888  0.866197  0.002043"
      ]
     },
     "execution_count": 14,
     "metadata": {},
     "output_type": "execute_result"
    }
   ],
   "source": [
    "loadings_pd = pd.DataFrame(data = pca.components_.T, columns = ['PC1', 'PC2', 'PC3'], index = pottery_df.columns)\n",
    "loadings_pd"
   ]
  },
  {
   "cell_type": "markdown",
   "id": "a0c3150b",
   "metadata": {},
   "source": [
    "Q1.2.3"
   ]
  },
  {
   "cell_type": "code",
   "execution_count": 15,
   "id": "ec76a7e9",
   "metadata": {},
   "outputs": [
    {
     "data": {
      "text/plain": [
       "array([0.7755594 , 0.12176197, 0.04883844])"
      ]
     },
     "execution_count": 15,
     "metadata": {},
     "output_type": "execute_result"
    }
   ],
   "source": [
    "pca.explained_variance_ratio_"
   ]
  },
  {
   "cell_type": "code",
   "execution_count": 16,
   "id": "1116bc32",
   "metadata": {
    "scrolled": true
   },
   "outputs": [
    {
     "data": {
      "image/png": "[encoded data removed]",
      "text/plain": [
       "<Figure size 432x288 with 1 Axes>"
      ]
     },
     "metadata": {
      "needs_background": "light"
     },
     "output_type": "display_data"
    }
   ],
   "source": [
    "plt.plot(range(1, pca.n_components+1), np.cumsum(pca.explained_variance_ratio_), '-o', label = 'Cumulative explained variance')\n",
    "plt.xlabel('Number of components', fontsize = 20)\n",
    "plt.ylabel('Culmulative explained variance', fontsize = 20)\n",
    "plt.tick_params(labelsize=12)\n",
    "plt.ylim(0,1)\n",
    "plt.show()"
   ]
  },
  {
   "cell_type": "code",
   "execution_count": 17,
   "id": "a1aca2d8",
   "metadata": {},
   "outputs": [
    {
     "name": "stdout",
     "output_type": "stream",
     "text": [
      "The first 2 components describe 89.73213663789889 percent variances\n",
      "3 components describe 94.61598027980749 percent variances\n"
     ]
    }
   ],
   "source": [
    "print('The first 2 components describe', np.cumsum(pca.explained_variance_ratio_)[1]*100, 'percent variances')\n",
    "print('3 components describe', np.cumsum(pca.explained_variance_ratio_)[2]*100, 'percent variances')"
   ]
  },
  {
   "cell_type": "markdown",
   "id": "dd735f0a",
   "metadata": {},
   "source": [
    "Q1.1.4"
   ]
  },
  {
   "cell_type": "code",
   "execution_count": 18,
   "id": "c865bc33",
   "metadata": {},
   "outputs": [],
   "source": [
    "index_Llanedyrn = list(df.loc[df['Site'] == 'Llanedyrn'].index)\n",
    "index_Caldicot = list(df.loc[df['Site'] == 'Caldicot'].index)\n",
    "index_IsleThorns = list(df.loc[df['Site'] == 'IsleThorns'].index)\n",
    "index_AshleyRails = list(df.loc[df['Site'] == 'AshleyRails'].index)"
   ]
  },
  {
   "cell_type": "code",
   "execution_count": 19,
   "id": "f43e394e",
   "metadata": {},
   "outputs": [],
   "source": [
    "# scores_loadings graph for PC1-PC2\n",
    "def myplot(scores,loadings,loading_labels=None,score_labels=None):\n",
    "    # adjusting the scores to fit in (-1,1)\n",
    "    xt = scores[:,0]\n",
    "    yt = scores[:,1]\n",
    "    n = loadings.shape[0]\n",
    "    scalext = 1.0/(xt.max() - xt.min())\n",
    "    scaleyt = 1.0/(yt.max() - yt.min())\n",
    "    xt_scaled = xt * scalext\n",
    "    yt_scaled = yt * scaleyt\n",
    "    # adjusting the loadings to fit in (-1,1)\n",
    "    p = loadings\n",
    "    p_scaled = MaxAbsScaler().fit_transform(p)\n",
    "    \n",
    "    #plt.scatter(xs * scalex,ys * scaley, s=10)\n",
    "    for (x,y), label in zip(np.vstack((xt_scaled, yt_scaled)).T,score_labels):\n",
    "        if label in index_Llanedyrn:\n",
    "            plt.text(x, y, label, ha='center', color = 'g', size=11)\n",
    "        elif label in index_Caldicot:\n",
    "            plt.text(x, y, label, ha='center', color = 'b', size=11)\n",
    "        elif label in index_IsleThorns:\n",
    "            plt.text(x, y, label, ha='center', color = 'y', size=11)\n",
    "        else:\n",
    "            plt.text(x, y, label, ha='center', color = 'r', size=11)\n",
    "    \n",
    "    for i in range(n):\n",
    "        plt.arrow(0, 0, p_scaled[i,0], p_scaled[i,1], color = 'r',alpha = 0.5)\n",
    "        if loading_labels is None:\n",
    "            plt.text(p_scaled[i,0], p_scaled[i,1], \"Var\"+str(i+1), color = 'g', ha = 'center', va = 'center')\n",
    "        else:\n",
    "            plt.text(p_scaled[i,0], p_scaled[i,1], loading_labels[i], color = 'r', ha = 'center', va = 'center', size=16)\n",
    "    plt.xlim(-1,1)\n",
    "    plt.ylim(-1, 1)\n",
    "    plt.xlabel(\"PC{}\".format(1), fontsize=20);\n",
    "    plt.ylabel(\"PC{}\".format(2), fontsize=20);\n",
    "    plt.tick_params(labelsize=16)\n",
    "    plt.grid()"
   ]
  },
  {
   "cell_type": "code",
   "execution_count": 20,
   "id": "9a94dbdb",
   "metadata": {},
   "outputs": [
    {
     "data": {
      "image/png": "[encoded data removed]",
      "text/plain": [
       "<Figure size 1152x648 with 1 Axes>"
      ]
     },
     "metadata": {
      "needs_background": "light"
     },
     "output_type": "display_data"
    }
   ],
   "source": [
    "plt.rcParams[\"figure.figsize\"] = [16,9]\n",
    "myplot(pca_scores[:,:2],loadings_pd.iloc[:,:2],loading_labels=loadings_pd.index,score_labels=scores_pd.index)\n",
    "plt.show() # visualize in different site"
   ]
  },
  {
   "cell_type": "markdown",
   "id": "016d335f",
   "metadata": {},
   "source": [
    "\n",
    "Q1.1.5"
   ]
  },
  {
   "cell_type": "markdown",
   "id": "92f851d2",
   "metadata": {},
   "source": [
    "From above scores-loading graph, we could conclude the raw material from Isle Thorns and Ashley Rails which are denoted as red numbers and yellow numbers respectively to manufacture Product B are similar to each other since the observation points are close to each other. Raw materials are mainly from Al. However, product A needs very different components as we could tell from those green points and blue points. In this case, our company use raw materials from Caldicot for product B."
   ]
  },
  {
   "cell_type": "markdown",
   "id": "15a702a6",
   "metadata": {},
   "source": [
    "Q1.1.6"
   ]
  },
  {
   "cell_type": "markdown",
   "id": "658c59be",
   "metadata": {},
   "source": [
    "No. The raw materials from Caldicot are not as close as raw materials from Llanedyrn to 'Na', 'Fe', 'Mg' and 'Ca'. They have different raw materials for product A."
   ]
  },
  {
   "cell_type": "markdown",
   "id": "2573c830",
   "metadata": {},
   "source": [
    "Q1.1.7"
   ]
  },
  {
   "cell_type": "markdown",
   "id": "aa8c3fa7",
   "metadata": {},
   "source": [
    "The biggest differences in the 2 big clusters are product B needs more Al for the raw material and product A needs less AI. Two samples from the candidate Caldiot and Llandyrn need the nearly the same amount of 'Ca' and 'AI'. However, samples from Llanedyrn need more 'Na', 'Fe' and 'Mg'."
   ]
  },
  {
   "cell_type": "markdown",
   "id": "1643eb47",
   "metadata": {},
   "source": [
    "Q1.1.8"
   ]
  },
  {
   "cell_type": "code",
   "execution_count": 21,
   "id": "9ee5f141",
   "metadata": {},
   "outputs": [
    {
     "data": {
      "text/plain": [
       "Text(0.5, 1.0, 'Na')"
      ]
     },
     "execution_count": 21,
     "metadata": {},
     "output_type": "execute_result"
    },
    {
     "data": {
      "image/png": "[encoded data removed]",
      "text/plain": [
       "<Figure size 1152x648 with 6 Axes>"
      ]
     },
     "metadata": {
      "needs_background": "light"
     },
     "output_type": "display_data"
    }
   ],
   "source": [
    "pottery_col = list(pottery_df.columns)\n",
    "pottery_df['Site'] = df['Site']\n",
    "fig, axes = plt.subplots(2, 3)\n",
    "sns.boxplot(x= 'Site', y = 'Al', data=pottery_df, orient='v' , ax=axes[0, 0]).axes.set_title(\"Al\")\n",
    "sns.boxplot(x= 'Site', y = 'Fe', data=pottery_df, orient='v' , ax=axes[0, 1]).axes.set_title(\"Fe\")\n",
    "sns.boxplot(x= 'Site', y = 'Mg', data=pottery_df, orient='v' , ax=axes[0, 2]).axes.set_title(\"Mg\")\n",
    "sns.boxplot(x= 'Site', y = 'Ca', data=pottery_df, orient='v' , ax=axes[1, 0]).axes.set_title(\"Ca\")\n",
    "sns.boxplot(x= 'Site', y = 'Na', data=pottery_df, orient='v' , ax=axes[1, 1]).axes.set_title(\"Na\")"
   ]
  }
 ],
 "metadata": {
  "kernelspec": {
   "display_name": "Python 3",
   "language": "python",
   "name": "python3"
  },
  "language_info": {
   "codemirror_mode": {
    "name": "ipython",
    "version": 3
   },
   "file_extension": ".py",
   "mimetype": "text/x-python",
   "name": "python",
   "nbconvert_exporter": "python",
   "pygments_lexer": "ipython3",
   "version": "3.8.8"
  }
 },
 "nbformat": 4,
 "nbformat_minor": 5
}
